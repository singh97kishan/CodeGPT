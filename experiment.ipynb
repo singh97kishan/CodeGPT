{
 "cells": [
  {
   "cell_type": "code",
   "execution_count": 129,
   "metadata": {},
   "outputs": [
    {
     "data": {
      "text/plain": [
       "ChatGroq(client=<groq.resources.chat.completions.Completions object at 0x0000020B4E238440>, async_client=<groq.resources.chat.completions.AsyncCompletions object at 0x0000020B4E23B320>, model_name='Mixtral-8x7b-32768', groq_api_key=SecretStr('**********'))"
      ]
     },
     "execution_count": 129,
     "metadata": {},
     "output_type": "execute_result"
    }
   ],
   "source": [
    "import os\n",
    "from dotenv import load_dotenv\n",
    "from langchain_groq import ChatGroq\n",
    "load_dotenv()\n",
    "\n",
    "groq_api_key= os.getenv(\"GROQ_API_KEY\")\n",
    "llm= ChatGroq(model_name= \"Mixtral-8x7b-32768\", groq_api_key= groq_api_key)\n",
    "llm"
   ]
  },
  {
   "cell_type": "code",
   "execution_count": 130,
   "metadata": {},
   "outputs": [],
   "source": [
    "from langchain_core.messages import SystemMessage, HumanMessage, AIMessage\n",
    "from langchain_core.prompts import ChatPromptTemplate\n",
    "from langchain_community.chat_message_histories import ChatMessageHistory\n",
    "from langchain_core.chat_history import BaseChatMessageHistory\n",
    "from langchain_core.runnables.history import RunnableWithMessageHistory"
   ]
  },
  {
   "cell_type": "code",
   "execution_count": 131,
   "metadata": {},
   "outputs": [],
   "source": [
    "store={}\n",
    "\n",
    "def get_session_history(session_id:str)->BaseChatMessageHistory:\n",
    "    if session_id not in store:\n",
    "        store[session_id]= ChatMessageHistory()\n",
    "    return store[session_id]"
   ]
  },
  {
   "cell_type": "code",
   "execution_count": 132,
   "metadata": {},
   "outputs": [],
   "source": [
    "import random\n",
    "import string\n",
    "\n",
    "def random_session_id(length:int):\n",
    "    return ''.join(random.choices(string.ascii_uppercase + string.digits, k=length))\n",
    "\n",
    "session_id= random_session_id(5)"
   ]
  },
  {
   "cell_type": "code",
   "execution_count": 133,
   "metadata": {},
   "outputs": [],
   "source": [
    "config={\"configurable\":{\"session_id\":f\"{session_id}\"}}"
   ]
  },
  {
   "cell_type": "code",
   "execution_count": 228,
   "metadata": {},
   "outputs": [],
   "source": [
    "system_prompt= \"\"\" \n",
    "ROLE: You are an expert Python software developer specializes in Python coding.\n",
    "TASK: Your task is to generate dynamic python code exclusively for the prompt provided.\n",
    "Ensure that the code is properly intended and follows best practices for readability and maintainability.\n",
    "Include function definitions where possible and ensure code is error free.\n",
    "\n",
    "INSTRUCTIONS:\n",
    "1. Ensure that your responses are strictly dynamic python code enclosed in ``` only, with no textual information.\n",
    "Make sure you only return the code and nothing else.\n",
    "2. If user provides specific input values(e.g., path, filenames), Replace the example usage variable with user's input.\n",
    "(This replacement is mandatory where user input is provided)\n",
    "3. When fixing or explaining code, use comments to describe changes or provide explanations.\n",
    "4. Ensure that the code doesn't have any indentation errors.\n",
    "5. Specify the input and output data type in the function definition mandatory.\n",
    "\n",
    "ADDITIONALS:\n",
    "1. Once the function is generated, at the end write only 1 example using the generated function.\n",
    "2. It should follow this pattern:\n",
    "Example: \n",
    "result= my_function()\n",
    "\n",
    "\n",
    "Example of proper variable usage and user input replacement:\n",
    "```python\n",
    "def is_palindrome(text):\n",
    "    if text==text[::-1]:\n",
    "        return True\n",
    "    else:\n",
    "        return False\n",
    "\n",
    "#Example usage with variables:\n",
    "input_string= 'malyalam'\n",
    "result= is_palindrome(input_string)\n",
    "\"\"\""
   ]
  },
  {
   "cell_type": "code",
   "execution_count": 229,
   "metadata": {},
   "outputs": [
    {
     "name": "stdout",
     "output_type": "stream",
     "text": [
      "input_variables=['user_message'] input_types={'user_message': typing.List[typing.Union[langchain_core.messages.ai.AIMessage, langchain_core.messages.human.HumanMessage, langchain_core.messages.chat.ChatMessage, langchain_core.messages.system.SystemMessage, langchain_core.messages.function.FunctionMessage, langchain_core.messages.tool.ToolMessage]]} messages=[SystemMessagePromptTemplate(prompt=PromptTemplate(input_variables=[], template=\" \\nROLE: You are an expert Python software developer specializes in Python coding.\\nTASK: Your task is to generate dynamic python code exclusively for the prompt provided.\\nEnsure that the code is properly intended and follows best practices for readability and maintainability.\\nInclude function definitions where possible and ensure code is error free.\\n\\nINSTRUCTIONS:\\n1. Ensure that your responses are strictly dynamic python code enclosed in ``` only, with no textual information.\\nMake sure you only return the code and nothing else.\\n2. If user provides specific input values(e.g., path, filenames), Replace the example usage variable with user's input.\\n(This replacement is mandatory where user input is provided)\\n3. When fixing or explaining code, use comments to describe changes or provide explanations.\\n4. Ensure that the code doesn't have any indentation errors.\\n5. Specify the input and output data type in the function definition mandatory.\\n\\nADDITIONALS:\\n1. Once the function is generated, at the end write only 1 example using the generated function.\\n2. It should follow this pattern:\\nExample: \\nresult= my_function()\\n\\n\\nExample of proper variable usage and user input replacement:\\n```python\\ndef is_palindrome(text):\\n    if text==text[::-1]:\\n        return True\\n    else:\\n        return False\\n\\n#Example usage with variables:\\ninput_string= 'malyalam'\\nresult= is_palindrome(input_string)\\n\")), MessagesPlaceholder(variable_name='user_message')]\n"
     ]
    }
   ],
   "source": [
    "from langchain_core.prompts import MessagesPlaceholder\n",
    "prompt= ChatPromptTemplate.from_messages(\n",
    "    [\n",
    "        (\"system\",system_prompt),\n",
    "        MessagesPlaceholder(variable_name=\"user_message\")\n",
    "    ]\n",
    ")\n",
    "\n",
    "print(prompt)"
   ]
  },
  {
   "cell_type": "code",
   "execution_count": 230,
   "metadata": {},
   "outputs": [],
   "source": [
    "chain= prompt|llm\n",
    "with_message_history= RunnableWithMessageHistory(chain,get_session_history)"
   ]
  },
  {
   "cell_type": "code",
   "execution_count": 231,
   "metadata": {},
   "outputs": [],
   "source": [
    "def get_llm_response(user_prompt, with_message_history, config):\n",
    "    response= with_message_history.invoke(\n",
    "        {'user_message': [HumanMessage(content=user_prompt)]},\n",
    "        config=config\n",
    "    )\n",
    "    return response.content"
   ]
  },
  {
   "cell_type": "code",
   "execution_count": 232,
   "metadata": {},
   "outputs": [
    {
     "name": "stdout",
     "output_type": "stream",
     "text": [
      "Here's the Python code to return the square of a given number:\n",
      "\n",
      "```python\n",
      "def square(number: int) -> int:\n",
      "    \"\"\"\n",
      "    This function returns the square of a given number.\n",
      "\n",
      "    :param number: The number for which square is to be found.\n",
      "    :return: The square of the given number.\n",
      "    \"\"\"\n",
      "    return number ** 2\n",
      "```\n",
      "Example:\n",
      "--------\n",
      "\n",
      "```python\n",
      "result = square(5)\n",
      "```\n"
     ]
    }
   ],
   "source": [
    "user_prompt= \"python function to return square of a given number\"\n",
    "response= get_llm_response(user_prompt, with_message_history,config)\n",
    "\n",
    "print(response)"
   ]
  },
  {
   "cell_type": "code",
   "execution_count": 250,
   "metadata": {},
   "outputs": [],
   "source": [
    "store={}"
   ]
  },
  {
   "cell_type": "code",
   "execution_count": 251,
   "metadata": {},
   "outputs": [
    {
     "name": "stdout",
     "output_type": "stream",
     "text": [
      "Here is the dynamic Python code to find the area of a rectangle:\n",
      "\n",
      "```python\n",
      "def calculate_rectangle_area(length: float, width: float) -> float:\n",
      "    \"\"\"\n",
      "    This function calculates the area of a rectangle.\n",
      "\n",
      "    :param length: Length of the rectangle.\n",
      "    :param width: Width of the rectangle.\n",
      "    :return: Area of the rectangle.\n",
      "    \"\"\"\n",
      "    area = length * width\n",
      "    return area\n",
      "\n",
      "# Example usage with variables:\n",
      "length = 5.0\n",
      "width = 3.0\n",
      "result = calculate_rectangle_area(length, width)\n",
      "```\n",
      "Example usage:\n",
      "-----------------\n",
      "result = calculate\\_rectangle\\_area(5.0, 3.0)\n"
     ]
    }
   ],
   "source": [
    "user_prompt= \"python function to find area of a rectangle\"\n",
    "response= get_llm_response(user_prompt,with_message_history,config)\n",
    "\n",
    "print(response)"
   ]
  },
  {
   "cell_type": "code",
   "execution_count": 252,
   "metadata": {},
   "outputs": [
    {
     "data": {
      "text/plain": [
       "'1S78Y'"
      ]
     },
     "execution_count": 252,
     "metadata": {},
     "output_type": "execute_result"
    }
   ],
   "source": [
    "keys= list(store.keys())\n",
    "first_key= keys[0]\n",
    "first_key"
   ]
  },
  {
   "cell_type": "code",
   "execution_count": 253,
   "metadata": {},
   "outputs": [
    {
     "name": "stdout",
     "output_type": "stream",
     "text": [
      "content='python function to find area of a rectangle'\n",
      "content='Here is the dynamic Python code to find the area of a rectangle:\\n\\n```python\\ndef calculate_rectangle_area(length: float, width: float) -> float:\\n    \"\"\"\\n    This function calculates the area of a rectangle.\\n\\n    :param length: Length of the rectangle.\\n    :param width: Width of the rectangle.\\n    :return: Area of the rectangle.\\n    \"\"\"\\n    area = length * width\\n    return area\\n\\n# Example usage with variables:\\nlength = 5.0\\nwidth = 3.0\\nresult = calculate_rectangle_area(length, width)\\n```\\nExample usage:\\n-----------------\\nresult = calculate\\\\_rectangle\\\\_area(5.0, 3.0)' response_metadata={'token_usage': {'completion_tokens': 168, 'prompt_tokens': 356, 'total_tokens': 524, 'completion_time': 0.269911644, 'prompt_time': 0.024911978, 'queue_time': 0.0007649519999999993, 'total_time': 0.294823622}, 'model_name': 'Mixtral-8x7b-32768', 'system_fingerprint': 'fp_c5f20b5bb1', 'finish_reason': 'stop', 'logprobs': None} id='run-a698ca2d-16fc-4d3a-9ad5-d80bdcaf243b-0' usage_metadata={'input_tokens': 356, 'output_tokens': 168, 'total_tokens': 524}\n"
     ]
    }
   ],
   "source": [
    "for i in store[first_key].messages:\n",
    "    print(i)"
   ]
  },
  {
   "cell_type": "code",
   "execution_count": 254,
   "metadata": {},
   "outputs": [
    {
     "name": "stdout",
     "output_type": "stream",
     "text": [
      "def calculate_rectangle_area(length: float, width: float) -> float:\n",
      "    \"\"\"\n",
      "    This function calculates the area of a rectangle.\n",
      "\n",
      "    :param length: Length of the rectangle.\n",
      "    :param width: Width of the rectangle.\n",
      "    :return: Area of the rectangle.\n",
      "    \"\"\"\n",
      "    area = length * width\n",
      "    return area\n",
      "\n",
      "# Example usage with variables:\n",
      "length = 5.0\n",
      "width = 3.0\n",
      "result = calculate_rectangle_area(length, width)\n"
     ]
    }
   ],
   "source": [
    "import re\n",
    "def clean_generated_code(response):\n",
    "    code_blocks = re.findall(r'```python(.*?)```', response, re.DOTALL)\n",
    "    extracted_code = '\\n'.join(block.strip() for block in code_blocks)\n",
    "    return extracted_code\n",
    "\n",
    "clean_response= clean_generated_code(response)\n",
    "print(clean_response)"
   ]
  },
  {
   "cell_type": "code",
   "execution_count": 255,
   "metadata": {},
   "outputs": [],
   "source": [
    "def extract_missing_modules(error_msg):\n",
    "    missing_modules= re.findall(r\"ModuleNotFoundError: No module named '(\\w+)'\", error_msg)\n",
    "    return missing_modules\n",
    "\n",
    "\n",
    "def install_module(module_name):\n",
    "    import subprocess\n",
    "    result= subprocess.run([\"pip\", \"install\", module_name], check=True)\n",
    "    if result.returncode==0:\n",
    "        print(f\"Module '{module_name}' installed successfully\")\n",
    "    else:\n",
    "        print(f\"Failed to install module '{module_name}'\")\n",
    "\n",
    "    return result.returncode==0"
   ]
  },
  {
   "cell_type": "code",
   "execution_count": 256,
   "metadata": {},
   "outputs": [],
   "source": [
    "import subprocess\n",
    "import sys\n",
    "\n",
    "def run_code(code):\n",
    "    try:\n",
    "        result=  subprocess.run([f\"{sys.executable}\",\"-c\", code], capture_output=True, text=True, timeout=3000)\n",
    "        if result.returncode!=0:\n",
    "            missing_modules= extract_missing_modules(result.stderr)\n",
    "            for module in missing_modules:\n",
    "                install_module(module)\n",
    "            result= subprocess.run([f\"{sys.executable}\",\"-c\", code], capture_output=True, text=True, timeout=3000)\n",
    "            if result.returncode!=0:\n",
    "                return False, result.stderr\n",
    "        else:\n",
    "            return True, result.stdout\n",
    "    except subprocess.TimeoutExpired:\n",
    "        return False, \"Execution timed out\"\n",
    "    except Exception as e:\n",
    "        return False, str(e)"
   ]
  },
  {
   "cell_type": "code",
   "execution_count": 257,
   "metadata": {},
   "outputs": [
    {
     "data": {
      "text/plain": [
       "(True, '')"
      ]
     },
     "execution_count": 257,
     "metadata": {},
     "output_type": "execute_result"
    }
   ],
   "source": [
    "run_code(clean_response)"
   ]
  },
  {
   "cell_type": "code",
   "execution_count": 258,
   "metadata": {},
   "outputs": [
    {
     "name": "stdout",
     "output_type": "stream",
     "text": [
      "def calculate_rectangle_area(length: float, width: float) -> float:\n",
      "    \"\"\"\n",
      "    This function calculates the area of a rectangle.\n",
      "\n",
      "    :param length: Length of the rectangle.\n",
      "    :param width: Width of the rectangle.\n",
      "    :return: Area of the rectangle.\n",
      "    \"\"\"\n",
      "    area = length * width\n",
      "    return area\n",
      "\n",
      "# Example usage with variables:\n",
      "length = 5.0\n",
      "width = 3.0\n",
      "result = calculate_rectangle_area(length, width)\n"
     ]
    }
   ],
   "source": [
    "print(clean_response)"
   ]
  },
  {
   "cell_type": "code",
   "execution_count": 263,
   "metadata": {},
   "outputs": [],
   "source": [
    "def retrieve_input_vars_and_type(code_string: string)->dict:\n",
    "    input_params_pattern = r\"def\\s+\\w+\\(([^)]+)\\)\"\n",
    "    input_type_pattern = r\"(\\w+):\\s*(\\w+)\"\n",
    "\n",
    "    # Extract input parameters and types\n",
    "    input_params_match = re.search(input_params_pattern, code_string)\n",
    "    if input_params_match:\n",
    "        input_params = input_params_match.group(1).strip()\n",
    "        input_vars = re.findall(input_type_pattern, input_params)\n",
    "        \n",
    "        input_dict = {var: type_ for var, type_ in input_vars}\n",
    "        return input_dict"
   ]
  },
  {
   "cell_type": "code",
   "execution_count": 265,
   "metadata": {},
   "outputs": [
    {
     "data": {
      "text/plain": [
       "{'length': 'float', 'width': 'float'}"
      ]
     },
     "execution_count": 265,
     "metadata": {},
     "output_type": "execute_result"
    }
   ],
   "source": [
    "input_vars_dict= retrieve_input_vars_and_type(clean_response)\n",
    "input_vars_dict"
   ]
  },
  {
   "cell_type": "code",
   "execution_count": 273,
   "metadata": {},
   "outputs": [
    {
     "data": {
      "text/plain": [
       "['float', 'float']"
      ]
     },
     "execution_count": 273,
     "metadata": {},
     "output_type": "execute_result"
    }
   ],
   "source": [
    "list(input_vars_dict.values())"
   ]
  },
  {
   "cell_type": "code",
   "execution_count": 152,
   "metadata": {},
   "outputs": [
    {
     "name": "stdout",
     "output_type": "stream",
     "text": [
      "[0, 1, 1, 2, 3, 5, 8, 13, 21, 34]\n"
     ]
    }
   ],
   "source": [
    "exec(clean_response)"
   ]
  },
  {
   "cell_type": "code",
   "execution_count": 153,
   "metadata": {},
   "outputs": [
    {
     "data": {
      "text/plain": [
       "[0, 1, 1, 2, 3]"
      ]
     },
     "execution_count": 153,
     "metadata": {},
     "output_type": "execute_result"
    }
   ],
   "source": [
    "fibonacci_series(5)"
   ]
  },
  {
   "cell_type": "code",
   "execution_count": 207,
   "metadata": {},
   "outputs": [],
   "source": [
    "def extract_function(code_string):\n",
    "    lines = code_string.splitlines()\n",
    "    function_lines = []\n",
    "    inside_function = False\n",
    "    indentation_level = None\n",
    "\n",
    "    for line in lines:\n",
    "        # Check if the line starts the function definition\n",
    "        if line.strip().startswith(\"def \"):\n",
    "            inside_function = True\n",
    "            function_lines.append(line)\n",
    "            indentation_level = len(line) - len(line.lstrip())\n",
    "        elif inside_function:\n",
    "            current_indentation = len(line) - len(line.lstrip())\n",
    "\n",
    "            # If the line is less indented or empty, we've reached the end of the function\n",
    "            if current_indentation <= indentation_level and line.strip() != \"\":\n",
    "                break\n",
    "\n",
    "            function_lines.append(line)\n",
    "\n",
    "    return \"\\n\".join(function_lines)"
   ]
  },
  {
   "cell_type": "code",
   "execution_count": 208,
   "metadata": {},
   "outputs": [
    {
     "name": "stdout",
     "output_type": "stream",
     "text": [
      "def square(number: int) -> int:\n",
      "    \"\"\"\n",
      "    Function to return the square of a given number.\n",
      "\n",
      "    :param number: The number to find the square of.\n",
      "    :return: The square of the given number.\n",
      "    \"\"\"\n",
      "    return number ** 2\n",
      "\n"
     ]
    }
   ],
   "source": [
    "extracted_function = extract_function(clean_response)\n",
    "print(extracted_function)"
   ]
  },
  {
   "cell_type": "code",
   "execution_count": 183,
   "metadata": {},
   "outputs": [],
   "source": [
    "def extract_function_name(code_string):\n",
    "    # Use regex to find the function name\n",
    "    match = re.search(r'def\\s+(\\w+)\\s*\\(', code_string)\n",
    "    if match:\n",
    "        return match.group(1)\n",
    "    return None"
   ]
  },
  {
   "cell_type": "code",
   "execution_count": 184,
   "metadata": {},
   "outputs": [
    {
     "data": {
      "text/plain": [
       "'is_palindrome'"
      ]
     },
     "execution_count": 184,
     "metadata": {},
     "output_type": "execute_result"
    }
   ],
   "source": [
    "function_name"
   ]
  },
  {
   "cell_type": "code",
   "execution_count": 267,
   "metadata": {},
   "outputs": [],
   "source": [
    "def call_function_by_name(function_name, *args, **kwargs):\n",
    "    # Use globals() or locals() to call the function dynamically\n",
    "    if function_name in globals():\n",
    "        return globals()[function_name](*args, **kwargs)\n",
    "    elif function_name in locals():\n",
    "        return locals()[function_name](*args, **kwargs)\n",
    "    else:\n",
    "        raise NameError(f\"Function '{function_name}' is not defined.\")"
   ]
  },
  {
   "cell_type": "code",
   "execution_count": 188,
   "metadata": {},
   "outputs": [
    {
     "name": "stdout",
     "output_type": "stream",
     "text": [
      "False\n"
     ]
    }
   ],
   "source": [
    "function_name= extract_function_name(clean_response)\n",
    "exec(extracted_function)\n",
    "\n",
    "if function_name:\n",
    "    result = call_function_by_name(function_name, 12345)  # Example: calling fibonacci_series(7)\n",
    "    print(result)"
   ]
  },
  {
   "cell_type": "code",
   "execution_count": 269,
   "metadata": {},
   "outputs": [
    {
     "data": {
      "text/plain": [
       "('12.0', '30.0')"
      ]
     },
     "execution_count": 269,
     "metadata": {},
     "output_type": "execute_result"
    }
   ],
   "source": [
    "user_input= '12.0 30.0'\n",
    "inputs= tuple(user_input.split(' '))\n",
    "inputs"
   ]
  },
  {
   "cell_type": "code",
   "execution_count": 274,
   "metadata": {},
   "outputs": [
    {
     "name": "stdout",
     "output_type": "stream",
     "text": [
      "(12.0, 'kishan')\n"
     ]
    }
   ],
   "source": [
    "def parse_user_input(user_input, type_mapping):\n",
    "    input_values = user_input.split(' ')\n",
    "    \n",
    "    # Ensure that the number of inputs matches the number of types\n",
    "    if len(input_values) != len(type_mapping):\n",
    "        raise ValueError(\"Number of input values does not match the number of expected types.\")\n",
    "    \n",
    "    # Convert input values to the appropriate data types\n",
    "    converted_values = []\n",
    "    for value, dtype in zip(input_values, type_mapping):\n",
    "        if dtype == 'float':\n",
    "            converted_values.append(float(value))\n",
    "        elif dtype == 'int':\n",
    "            converted_values.append(int(value))\n",
    "        elif dtype == 'str':\n",
    "            converted_values.append(value)\n",
    "        elif dtype == 'bool':\n",
    "            converted_values.append(value.lower() in ['true', '1', 'yes'])\n",
    "        else:\n",
    "            raise ValueError(f\"Unsupported data type: {dtype}\")\n",
    "    \n",
    "    return tuple(converted_values)\n",
    "\n",
    "# Example user input and type mapping\n",
    "user_input = \"12 kishan\"\n",
    "type_mapping = ['float', 'str']\n",
    "\n",
    "# Parse and convert the user input\n",
    "parsed_inputs = parse_user_input(user_input, type_mapping)\n",
    "print(parsed_inputs)\n"
   ]
  },
  {
   "cell_type": "code",
   "execution_count": null,
   "metadata": {},
   "outputs": [],
   "source": []
  }
 ],
 "metadata": {
  "kernelspec": {
   "display_name": "llmenv",
   "language": "python",
   "name": "python3"
  },
  "language_info": {
   "codemirror_mode": {
    "name": "ipython",
    "version": 3
   },
   "file_extension": ".py",
   "mimetype": "text/x-python",
   "name": "python",
   "nbconvert_exporter": "python",
   "pygments_lexer": "ipython3",
   "version": "3.12.2"
  }
 },
 "nbformat": 4,
 "nbformat_minor": 2
}
